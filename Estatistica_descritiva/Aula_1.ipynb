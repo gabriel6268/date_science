{
 "cells": [
  {
   "cell_type": "markdown",
   "id": "385b783c-c907-49cf-b96f-f3a34e5e0eda",
   "metadata": {},
   "source": [
    "# Estatistica descritiva com Pandas - Aula 1"
   ]
  },
  {
   "cell_type": "code",
   "execution_count": 3,
   "id": "777327ec-ee32-4c70-9f9e-3bdae91592dc",
   "metadata": {},
   "outputs": [],
   "source": [
    "import pandas as pd"
   ]
  },
  {
   "cell_type": "markdown",
   "id": "75bda4c0-b76b-48eb-a70b-ab9a67c14332",
   "metadata": {
    "jp-MarkdownHeadingCollapsed": true
   },
   "source": [
    "### Medidas de posição"
   ]
  },
  {
   "cell_type": "raw",
   "id": "07e6ad23-a6b6-4c67-b047-875e3da448d5",
   "metadata": {},
   "source": [
    "Medidas de posição são estatísticas que descrevem a distribuição dos dados em torno de pontos centrais."
   ]
  },
  {
   "cell_type": "raw",
   "id": "3c0e7b6a-4be9-4090-94c9-e9808bc4ba75",
   "metadata": {},
   "source": [
    "Lista = [1, 2, 2, 3, 4, 5, 6]\n",
    "\n",
    "Média - soma dos valores dividido pelo número de valores -  Lista.mean() -> (1 + 2 + 2 + 3 + 4 + 5 + 6) / 7 ≃ 3.28\n",
    "\n",
    "Moda - valor que mais aparece \"O que está na moda\" - Lista.mode() -> 2\n",
    "\n",
    "Mediana - valor central, caso exista dois valores centrais devesse soma-los e dividir por 2 - Lista.mean() -> 3\n"
   ]
  },
  {
   "cell_type": "code",
   "execution_count": 16,
   "id": "5e5c387f-1c4e-4451-a4e7-1575a3f5a5d0",
   "metadata": {},
   "outputs": [
    {
     "name": "stdout",
     "output_type": "stream",
     "text": [
      "Media:3.29, Moda:2 e Mediana:3.0\n"
     ]
    }
   ],
   "source": [
    "lista = pd.Series([1, 2, 2, 3, 4, 5, 6])\n",
    "print(f'Media:{lista.mean():.2f}, Moda:{lista.mode().get(0, 1)} e Mediana:{ lista.median()}')\n"
   ]
  },
  {
   "cell_type": "markdown",
   "id": "2c8fc38c-12f2-4152-9cff-47447e3aab30",
   "metadata": {
    "jp-MarkdownHeadingCollapsed": true
   },
   "source": [
    "### Medidas de dispersão"
   ]
  },
  {
   "cell_type": "raw",
   "id": "74be2fb1-5599-4e0e-abe5-92a7fdbcf053",
   "metadata": {},
   "source": [
    "Medidas de dispersão são estatísticas que ajudam a entender a variabilidade ou espalhamento dos dados em torno de uma medida central."
   ]
  },
  {
   "cell_type": "raw",
   "id": "6535c409-d738-43af-8e70-a70f8d4c7f6a",
   "metadata": {},
   "source": [
    "Variancia - Mede a dispersão dos dados ao calcular a média dos quadrados dos desvios em relação à média. Quanto maior a variância, maior a dispersão.\n",
    "\n",
    "Desvio padrão - Raiz quadrada da variância. Indica o quanto os dados se desviam, em média, da média. Quanto maior, maior a dispersão(quase a mesma coisa mas na mesma unidade de medida) - raiz quadrada da  variancia\n",
    "\n",
    "Coeficiente de variação - Razão entre o desvio padrão e a média, expressa como porcentagem. Indica a dispersão relativa dos dados, sendo útil para comparações entre diferentes conjuntos de dados. - desvio padrão sobre media do conjunto"
   ]
  },
  {
   "cell_type": "code",
   "execution_count": 30,
   "id": "b10dfbb8-b88b-4812-96c2-c1b0f213facc",
   "metadata": {},
   "outputs": [
    {
     "name": "stdout",
     "output_type": "stream",
     "text": [
      "Variancia:323.81 \n",
      "Desvio padrão:17.99 \n",
      "e coeficiente de variacão:54.77%\n"
     ]
    }
   ],
   "source": [
    "idades = pd.Series([10, 20, 20, 30, 40, 50, 60])\n",
    "print(f'''Variancia:{idades.var():.2f} \n",
    "Desvio padrão:{idades.std():.2f} \n",
    "e coeficiente de variacão:{idades.std()/idades.mean() * 100:.2f}%''')"
   ]
  },
  {
   "cell_type": "markdown",
   "id": "5cfe7f3a-a2f0-4ec9-a4ea-189ecd54d9d8",
   "metadata": {},
   "source": [
    "### Medidas de formas\n"
   ]
  },
  {
   "cell_type": "code",
   "execution_count": null,
   "id": "bff1455c-8971-470a-928b-2374a88c9748",
   "metadata": {},
   "outputs": [],
   "source": []
  }
 ],
 "metadata": {
  "kernelspec": {
   "display_name": "Python 3 (ipykernel)",
   "language": "python",
   "name": "python3"
  },
  "language_info": {
   "codemirror_mode": {
    "name": "ipython",
    "version": 3
   },
   "file_extension": ".py",
   "mimetype": "text/x-python",
   "name": "python",
   "nbconvert_exporter": "python",
   "pygments_lexer": "ipython3",
   "version": "3.12.3"
  }
 },
 "nbformat": 4,
 "nbformat_minor": 5
}
