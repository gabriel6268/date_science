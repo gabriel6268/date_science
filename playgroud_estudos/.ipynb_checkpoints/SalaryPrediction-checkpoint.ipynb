{
 "cells": [
  {
   "cell_type": "markdown",
   "id": "8a941273-ea5d-493e-a239-45e9d0be9004",
   "metadata": {},
   "source": [
    "# Salary Prediction: Based on years of experience"
   ]
  },
  {
   "cell_type": "raw",
   "id": "bd3d8899-ea6d-45e7-b4c8-c578c5267c3b",
   "metadata": {},
   "source": [
    "This dataset provides salary data based on years of experience, education level, and job role. It can be used for salary prediction models, regression analysis, and workforce analytics. The dataset includes realistic salary variations based on industry trends. "
   ]
  },
  {
   "cell_type": "raw",
   "id": "31f2ed18-cd24-46e2-a2c4-492988a5d2b6",
   "metadata": {},
   "source": [
    "Variables:\n",
    "\n",
    "- Columns Description\n",
    "\n",
    "1 - YearsExperience (float) – Number of years of experience (0 to 40 years).\n",
    "\n",
    "2 - Education Level (string) – The highest level of education attained. Categories include:\n",
    "        High School\n",
    "        Associate Degree\n",
    "        Bachelor's\n",
    "        Master's\n",
    "        PhD \n",
    "\n",
    "3 - Job Role (string) – Common job titles in the industry:\n",
    "        Software Engineer\n",
    "        Data Scientist\n",
    "        Product Manager\n",
    "        Marketing Specialist\n",
    "        Business Analyst \n",
    "\n",
    "4 - Salary (float) – The estimated annual salary in USD. The salary is influenced by experience, education level, and job role."
   ]
  },
  {
   "cell_type": "markdown",
   "id": "7a076a77-8b53-47b8-b167-b0223651d21a",
   "metadata": {},
   "source": [
    "What will we answer?\n",
    "\n",
    " - Real impact of years on career and salary.\n",
    "\n",
    " - Do years influence the position or level of education?\n",
    "\n",
    " - How is the salary distributed?\n",
    "\n",
    " - *SALARY MODEL PREDICTION*"
   ]
  },
  {
   "cell_type": "markdown",
   "id": "3d383447-6670-4c3d-b9e5-84fe8ba86656",
   "metadata": {},
   "source": [
    "### Required imports"
   ]
  },
  {
   "cell_type": "code",
   "execution_count": 1,
   "id": "2f51dfd0-952f-441d-9967-2a1df30f5f87",
   "metadata": {},
   "outputs": [
    {
     "name": "stdout",
     "output_type": "stream",
     "text": [
      "imports completed\n"
     ]
    }
   ],
   "source": [
    "# Data analysis and exploration\n",
    "import pandas as pd\n",
    "import numpy as np\n",
    "import matplotlib.pyplot as plt\n",
    "import seaborn as sns\n",
    "\n",
    "# Predictive model creation\n",
    "from sklearn.linear_model import LinearRegression\n",
    "from sklearn.model_selection import train_test_split\n",
    "from sklearn.metrics import mean_absolute_error, r2_score\n",
    "\n",
    "import warnings\n",
    "warnings.filterwarnings(\"ignore\")  \n",
    "\n",
    "print('imports completed')"
   ]
  },
  {
   "cell_type": "code",
   "execution_count": 3,
   "id": "98a472ed-22bb-4578-a26e-19df9b2f3818",
   "metadata": {},
   "outputs": [
    {
     "data": {
      "text/html": [
       "<div>\n",
       "<style scoped>\n",
       "    .dataframe tbody tr th:only-of-type {\n",
       "        vertical-align: middle;\n",
       "    }\n",
       "\n",
       "    .dataframe tbody tr th {\n",
       "        vertical-align: top;\n",
       "    }\n",
       "\n",
       "    .dataframe thead th {\n",
       "        text-align: right;\n",
       "    }\n",
       "</style>\n",
       "<table border=\"1\" class=\"dataframe\">\n",
       "  <thead>\n",
       "    <tr style=\"text-align: right;\">\n",
       "      <th></th>\n",
       "      <th>YearsExperience</th>\n",
       "      <th>Education Level</th>\n",
       "      <th>Job Role</th>\n",
       "      <th>Salary</th>\n",
       "    </tr>\n",
       "  </thead>\n",
       "  <tbody>\n",
       "    <tr>\n",
       "      <th>0</th>\n",
       "      <td>14.98</td>\n",
       "      <td>PhD</td>\n",
       "      <td>Marketing Specialist</td>\n",
       "      <td>77861.24</td>\n",
       "    </tr>\n",
       "    <tr>\n",
       "      <th>1</th>\n",
       "      <td>38.03</td>\n",
       "      <td>PhD</td>\n",
       "      <td>Software Engineer</td>\n",
       "      <td>166880.38</td>\n",
       "    </tr>\n",
       "    <tr>\n",
       "      <th>2</th>\n",
       "      <td>29.28</td>\n",
       "      <td>Bachelor's</td>\n",
       "      <td>Business Analyst</td>\n",
       "      <td>123573.27</td>\n",
       "    </tr>\n",
       "    <tr>\n",
       "      <th>3</th>\n",
       "      <td>23.95</td>\n",
       "      <td>Master's</td>\n",
       "      <td>Marketing Specialist</td>\n",
       "      <td>90155.08</td>\n",
       "    </tr>\n",
       "    <tr>\n",
       "      <th>4</th>\n",
       "      <td>6.24</td>\n",
       "      <td>Master's</td>\n",
       "      <td>Business Analyst</td>\n",
       "      <td>55931.41</td>\n",
       "    </tr>\n",
       "    <tr>\n",
       "      <th>...</th>\n",
       "      <td>...</td>\n",
       "      <td>...</td>\n",
       "      <td>...</td>\n",
       "      <td>...</td>\n",
       "    </tr>\n",
       "    <tr>\n",
       "      <th>99995</th>\n",
       "      <td>31.69</td>\n",
       "      <td>High School</td>\n",
       "      <td>Data Scientist</td>\n",
       "      <td>147608.78</td>\n",
       "    </tr>\n",
       "    <tr>\n",
       "      <th>99996</th>\n",
       "      <td>31.17</td>\n",
       "      <td>High School</td>\n",
       "      <td>Marketing Specialist</td>\n",
       "      <td>117267.24</td>\n",
       "    </tr>\n",
       "    <tr>\n",
       "      <th>99997</th>\n",
       "      <td>26.98</td>\n",
       "      <td>Associate Degree</td>\n",
       "      <td>Business Analyst</td>\n",
       "      <td>118188.50</td>\n",
       "    </tr>\n",
       "    <tr>\n",
       "      <th>99998</th>\n",
       "      <td>19.98</td>\n",
       "      <td>Master's</td>\n",
       "      <td>Data Scientist</td>\n",
       "      <td>108768.46</td>\n",
       "    </tr>\n",
       "    <tr>\n",
       "      <th>99999</th>\n",
       "      <td>15.60</td>\n",
       "      <td>Master's</td>\n",
       "      <td>Software Engineer</td>\n",
       "      <td>85079.54</td>\n",
       "    </tr>\n",
       "  </tbody>\n",
       "</table>\n",
       "<p>100000 rows × 4 columns</p>\n",
       "</div>"
      ],
      "text/plain": [
       "       YearsExperience   Education Level              Job Role     Salary\n",
       "0                14.98               PhD  Marketing Specialist   77861.24\n",
       "1                38.03               PhD     Software Engineer  166880.38\n",
       "2                29.28        Bachelor's      Business Analyst  123573.27\n",
       "3                23.95          Master's  Marketing Specialist   90155.08\n",
       "4                 6.24          Master's      Business Analyst   55931.41\n",
       "...                ...               ...                   ...        ...\n",
       "99995            31.69       High School        Data Scientist  147608.78\n",
       "99996            31.17       High School  Marketing Specialist  117267.24\n",
       "99997            26.98  Associate Degree      Business Analyst  118188.50\n",
       "99998            19.98          Master's        Data Scientist  108768.46\n",
       "99999            15.60          Master's     Software Engineer   85079.54\n",
       "\n",
       "[100000 rows x 4 columns]"
      ]
     },
     "execution_count": 3,
     "metadata": {},
     "output_type": "execute_result"
    }
   ],
   "source": [
    "# import dataset \n",
    "path = 'datasets/salary_prediction_updated_dataset.csv' \n",
    "dataset = pd.read_csv(path)\n",
    "dataset"
   ]
  },
  {
   "cell_type": "code",
   "execution_count": 6,
   "id": "d267eb52-340c-4adb-b4c4-ce7a6b82a34f",
   "metadata": {},
   "outputs": [
    {
     "data": {
      "text/plain": [
       "['YearsExperience', 'Education Level', 'Job Role', 'Salary']"
      ]
     },
     "execution_count": 6,
     "metadata": {},
     "output_type": "execute_result"
    }
   ],
   "source": [
    "dataset.columns.tolist()"
   ]
  },
  {
   "cell_type": "code",
   "execution_count": 7,
   "id": "824ec2a6-97e2-4cd6-8338-507283054ca6",
   "metadata": {},
   "outputs": [
    {
     "name": "stdout",
     "output_type": "stream",
     "text": [
      "<class 'pandas.core.frame.DataFrame'>\n",
      "RangeIndex: 100000 entries, 0 to 99999\n",
      "Data columns (total 4 columns):\n",
      " #   Column           Non-Null Count   Dtype  \n",
      "---  ------           --------------   -----  \n",
      " 0   YearsExperience  100000 non-null  float64\n",
      " 1   Education Level  100000 non-null  object \n",
      " 2   Job Role         100000 non-null  object \n",
      " 3   Salary           100000 non-null  float64\n",
      "dtypes: float64(2), object(2)\n",
      "memory usage: 3.1+ MB\n"
     ]
    }
   ],
   "source": [
    "dataset.info()"
   ]
  },
  {
   "cell_type": "code",
   "execution_count": 8,
   "id": "8a068eca-fa6b-48e3-83e5-46202135f258",
   "metadata": {},
   "outputs": [
    {
     "data": {
      "text/plain": [
       "YearsExperience    0\n",
       "Education Level    0\n",
       "Job Role           0\n",
       "Salary             0\n",
       "dtype: int64"
      ]
     },
     "execution_count": 8,
     "metadata": {},
     "output_type": "execute_result"
    }
   ],
   "source": [
    "dataset.isna().sum()"
   ]
  },
  {
   "cell_type": "code",
   "execution_count": 9,
   "id": "176e5cad-39e9-496b-8029-c6594f3da8f6",
   "metadata": {},
   "outputs": [
    {
     "data": {
      "text/plain": [
       "YearsExperience    0\n",
       "Education Level    0\n",
       "Job Role           0\n",
       "Salary             0\n",
       "dtype: int64"
      ]
     },
     "execution_count": 9,
     "metadata": {},
     "output_type": "execute_result"
    }
   ],
   "source": [
    "dataset.isnull().sum()"
   ]
  },
  {
   "cell_type": "code",
   "execution_count": 10,
   "id": "2a051b66-6a12-4d10-84a1-b1da862feb3a",
   "metadata": {},
   "outputs": [
    {
     "data": {
      "text/plain": [
       "np.int64(0)"
      ]
     },
     "execution_count": 10,
     "metadata": {},
     "output_type": "execute_result"
    }
   ],
   "source": [
    "dataset.duplicated().sum()"
   ]
  },
  {
   "cell_type": "code",
   "execution_count": 11,
   "id": "e76ca2f3-a04e-4af1-9ab7-d64ad33bde22",
   "metadata": {},
   "outputs": [
    {
     "data": {
      "text/plain": [
       "['PhD', \"Bachelor's\", \"Master's\", 'High School', 'Associate Degree']"
      ]
     },
     "execution_count": 11,
     "metadata": {},
     "output_type": "execute_result"
    }
   ],
   "source": [
    "dataset['Education Level'].unique().tolist()"
   ]
  },
  {
   "cell_type": "code",
   "execution_count": 12,
   "id": "5b8f0cf1-5534-4018-9537-9e4b4f0dfe07",
   "metadata": {},
   "outputs": [
    {
     "data": {
      "text/plain": [
       "['Marketing Specialist',\n",
       " 'Software Engineer',\n",
       " 'Business Analyst',\n",
       " 'Product Manager',\n",
       " 'Data Scientist']"
      ]
     },
     "execution_count": 12,
     "metadata": {},
     "output_type": "execute_result"
    }
   ],
   "source": [
    "dataset['Job Role'].unique().tolist()"
   ]
  },
  {
   "cell_type": "raw",
   "id": "7b43bcb4-c3fa-4cea-a815-4f7e3aa8dd60",
   "metadata": {},
   "source": [
    "With the initial analysis, we verified that there are no corrections necessary to start EDA."
   ]
  },
  {
   "cell_type": "markdown",
   "id": "27d36363-35d1-4a87-a65f-74b792417bb1",
   "metadata": {},
   "source": [
    "### EDA (exploratory data analysis)"
   ]
  },
  {
   "cell_type": "markdown",
   "id": "39a1dc59-1e94-4eaf-b3ba-8cfc51233118",
   "metadata": {},
   "source": [
    "#### Univariate analysis"
   ]
  },
  {
   "cell_type": "code",
   "execution_count": 13,
   "id": "f3296301-fac3-4909-b242-ac45f05e30ae",
   "metadata": {},
   "outputs": [
    {
     "data": {
      "text/plain": [
       "Index(['YearsExperience', 'Education Level', 'Job Role', 'Salary'], dtype='object')"
      ]
     },
     "execution_count": 13,
     "metadata": {},
     "output_type": "execute_result"
    }
   ],
   "source": [
    "dataset.columns"
   ]
  },
  {
   "cell_type": "code",
   "execution_count": 14,
   "id": "af723a9e-571c-4dd0-8e4b-dccce5263c05",
   "metadata": {},
   "outputs": [
    {
     "data": {
      "image/png": "[encoded data removed]",
      "text/plain": [
       "<Figure size 640x480 with 1 Axes>"
      ]
     },
     "metadata": {},
     "output_type": "display_data"
    }
   ],
   "source": [
    "# Distribution of 'YearsExperience'\n",
    "cDB = 'darkblue'\n",
    "plt.title(\"Distribution of 'YearsExperience'\", color=cDB)\n",
    "sns.histplot(dataset['YearsExperience'], kde=True, color=cDB)\n",
    "plt.grid(alpha=0.7)\n",
    "plt.xlabel('Years Experience', color=cDB)\n",
    "plt.ylabel('Frequency', color=cDB)\n",
    "plt.show()"
   ]
  },
  {
   "cell_type": "code",
   "execution_count": 15,
   "id": "8725a99d-c6b8-44d5-8834-618a7ffef46e",
   "metadata": {},
   "outputs": [
    {
     "name": "stdout",
     "output_type": "stream",
     "text": [
      "count    100000.000000\n",
      "mean         19.979528\n",
      "std          11.533637\n",
      "min           0.000000\n",
      "25%           9.980000\n",
      "50%          20.025000\n",
      "75%          29.980000\n",
      "max          40.000000\n",
      "Name: YearsExperience, dtype: float64\n"
     ]
    },
    {
     "data": {
      "image/png": "[encoded data removed]",
      "text/plain": [
       "<Figure size 640x480 with 1 Axes>"
      ]
     },
     "metadata": {},
     "output_type": "display_data"
    }
   ],
   "source": [
    "plt.title('Measures of Years Experience')\n",
    "fig2 = sns.boxplot(dataset['YearsExperience'], color='green')\n",
    "print(dataset['YearsExperience'].describe())\n",
    "plt.show()"
   ]
  },
  {
   "cell_type": "raw",
   "id": "8571ef3c-ec0e-44fe-b741-9f8fbc929833",
   "metadata": {},
   "source": [
    "There are no outliers, the ages are well distributed. Without any concentration"
   ]
  },
  {
   "cell_type": "code",
   "execution_count": 16,
   "id": "1e75eed8-3fe3-459d-a245-c559e0c4cab6",
   "metadata": {},
   "outputs": [
    {
     "name": "stdout",
     "output_type": "stream",
     "text": [
      "Job Role\n",
      "Data Scientist          20127\n",
      "Software Engineer       20063\n",
      "Business Analyst        19986\n",
      "Product Manager         19959\n",
      "Marketing Specialist    19865\n",
      "Name: count, dtype: int64\n"
     ]
    },
    {
     "data": {
      "image/png": "[encoded data removed]",
      "text/plain": [
       "<Figure size 640x480 with 1 Axes>"
      ]
     },
     "metadata": {},
     "output_type": "display_data"
    }
   ],
   "source": [
    "# Distribution of 'Job Role'\n",
    "cDB = 'blue'\n",
    "plt.title(\"Distribution of 'Job Role'\", color=cDB)\n",
    "sns.countplot(dataset['Job Role'], palette=\"magma\")\n",
    "plt.grid(alpha=0.7)\n",
    "plt.xlabel('Job Role', color=cDB)\n",
    "plt.ylabel('Frequency', color=cDB)\n",
    "plt.xticks(rotation=30)\n",
    "print(dataset['Job Role'].value_counts())\n",
    "plt.show()"
   ]
  },
  {
   "cell_type": "raw",
   "id": "704722d9-148d-49aa-80a8-2e7e980e4ada",
   "metadata": {},
   "source": [
    "Job role well distributed, with none significantly higher"
   ]
  },
  {
   "cell_type": "code",
   "execution_count": 17,
   "id": "78614bc5-3065-41b1-9f4a-0a83180ec3e9",
   "metadata": {},
   "outputs": [
    {
     "name": "stdout",
     "output_type": "stream",
     "text": [
      "Education Level\n",
      "PhD                 20232\n",
      "Bachelor's          20163\n",
      "Master's            19918\n",
      "High School         19900\n",
      "Associate Degree    19787\n",
      "Name: count, dtype: int64\n"
     ]
    },
    {
     "data": {
      "image/png": "[encoded data removed]",
      "text/plain": [
       "<Figure size 640x480 with 1 Axes>"
      ]
     },
     "metadata": {},
     "output_type": "display_data"
    }
   ],
   "source": [
    "# Distribution of 'Education Level'\n",
    "cDB = 'blue'\n",
    "plt.title(\"Distribution of 'Education Level'\", color=cDB)\n",
    "sns.countplot(dataset['Education Level'], palette=\"viridis\")\n",
    "plt.grid(alpha=0.7)\n",
    "plt.xlabel('Education Level', color=cDB)\n",
    "plt.ylabel('Frequency', color=cDB)\n",
    "plt.xticks(rotation=30)\n",
    "print(dataset['Education Level'].value_counts())\n",
    "plt.show()"
   ]
  },
  {
   "cell_type": "raw",
   "id": "d2a19440-818d-4988-9bda-66c0142d2198",
   "metadata": {},
   "source": [
    "Level of education well distributed, with none significantly higher"
   ]
  },
  {
   "cell_type": "code",
   "execution_count": null,
   "id": "9b2e2c9a-69cd-4145-a4aa-d99b1cd9fcae",
   "metadata": {},
   "outputs": [],
   "source": [
    "# Distribution of 'Salary'\n",
    "cDB = 'blue'\n",
    "plt.title(\"Distribution of 'Salary'\", color=cDB)\n",
    "sns.histplot(dataset['Salary'], palette=\"magma\")\n",
    "plt.grid(alpha=0.7)\n",
    "plt.xlabel('Salary', color=cDB)\n",
    "plt.ylabel('Frequency', color=cDB)\n",
    "plt.xticks(rotation=30)\n",
    "print(dataset['Salary'].value_counts())\n",
    "plt.show()"
   ]
  },
  {
   "cell_type": "code",
   "execution_count": null,
   "id": "9ed46d56-fba7-4443-a98e-3dfcbbd999d7",
   "metadata": {},
   "outputs": [],
   "source": [
    "plt.title('Measures of Salary')\n",
    "fig2 = sns.boxplot(dataset['Salary'], color='green')\n",
    "print(dataset['Salary'].describe())\n",
    "plt.show()"
   ]
  },
  {
   "cell_type": "markdown",
   "id": "47656891-438d-4f31-947a-89a19fd7be83",
   "metadata": {},
   "source": [
    "#### Multivariate analysis and correlation"
   ]
  },
  {
   "cell_type": "code",
   "execution_count": null,
   "id": "c324f2cf-8fce-43a4-8473-814f7a42e87d",
   "metadata": {},
   "outputs": [],
   "source": [
    "# Heatmap of all correlations numeric variable"
   ]
  },
  {
   "cell_type": "code",
   "execution_count": null,
   "id": "ffbe4d49-2b65-4d47-8c6f-f6eace60f24b",
   "metadata": {},
   "outputs": [],
   "source": [
    "dataset.columns"
   ]
  },
  {
   "cell_type": "code",
   "execution_count": null,
   "id": "45184d9c-3089-4975-9fbf-5552d605994a",
   "metadata": {},
   "outputs": [],
   "source": [
    "dataset_numeric = dataset[['Salary','YearsExperience' ]]\n",
    "sns.heatmap(dataset_numeric.corr(), annot=True, cmap='coolwarm')\n",
    "plt.show()\n",
    "\n",
    "print(dataset['Salary'].corr(dataset['YearsExperience']))"
   ]
  },
  {
   "cell_type": "code",
   "execution_count": null,
   "id": "6d382fa9-bbb0-4ec6-92b5-7d2fd7f3cbb3",
   "metadata": {},
   "outputs": [],
   "source": [
    "plt.title('Correlation Salary X YearsExperience', color='red')\n",
    "sns.scatterplot(x='YearsExperience', y='Salary', data=dataset, palette='magma' , hue='Salary')\n",
    "plt.xlabel('Years Experience', color='red')\n",
    "plt.ylabel('Salary',color='red')\n",
    "plt.legend(title='Salário', bbox_to_anchor=(1, 1), loc='upper left')\n",
    "sns.set_style(\"darkgrid\")\n",
    "plt.show()"
   ]
  },
  {
   "cell_type": "raw",
   "id": "4f3301f1-06e2-44c3-ba87-daa1e8a48cf8",
   "metadata": {},
   "source": [
    "There is a strong positive correlation between salary and years of experience, an almost perfect correlation"
   ]
  },
  {
   "cell_type": "code",
   "execution_count": null,
   "id": "b962e7ea-d181-4420-bcd9-60be9896acec",
   "metadata": {},
   "outputs": [],
   "source": [
    "# Salary for Education Level\n",
    "dataset.groupby('Education Level')['Salary'].agg(['max','min','mean']).sort_values(by='mean',ascending=False)"
   ]
  },
  {
   "cell_type": "raw",
   "id": "0b7f6577-b204-4a5e-948f-2118ebc06846",
   "metadata": {},
   "source": [
    "The level of education does not matter in this context for salary increases"
   ]
  },
  {
   "cell_type": "code",
   "execution_count": null,
   "id": "e676ee9f-4202-41c8-b542-0999d91f1b4c",
   "metadata": {},
   "outputs": [],
   "source": [
    "# Salary for Job role\n",
    "dataset.groupby('Job Role')['Salary'].agg(['max','min','mean']).sort_values(by='mean',ascending=False)"
   ]
  },
  {
   "cell_type": "raw",
   "id": "f1b476aa-de8b-4994-bc1b-ef134ed4a841",
   "metadata": {},
   "source": [
    "Job Role has a certain relevance in increasing salaries"
   ]
  },
  {
   "cell_type": "code",
   "execution_count": null,
   "id": "2469c297-8045-447e-aaf6-d3ae02df60cf",
   "metadata": {},
   "outputs": [],
   "source": [
    "dataset.sample(2)"
   ]
  },
  {
   "cell_type": "markdown",
   "id": "9c63c08b-4766-418e-a5da-8cfd7f436920",
   "metadata": {},
   "source": [
    "### Creation of a salary prediction model"
   ]
  },
  {
   "cell_type": "code",
   "execution_count": null,
   "id": "1ed1b0b2-a9a3-4002-908f-0eb5819fa487",
   "metadata": {},
   "outputs": [],
   "source": [
    "# Transforming all variables into numerics\n",
    "dataset2 = pd.get_dummies(dataset, columns =['Job Role','Education Level' ], dtype=int)\n",
    "dataset2.sample(3)"
   ]
  },
  {
   "cell_type": "code",
   "execution_count": null,
   "id": "95b56e6a-f746-4619-9efb-6068d982b5f0",
   "metadata": {},
   "outputs": [],
   "source": [
    "# starting the regression model and training it\n",
    "model = LinearRegression()\n",
    "X = dataset2.drop('Salary', axis=1)\n",
    "y = dataset2['Salary']\n",
    "\n",
    "X_train, X_test, y_train, y_test = train_test_split(X, y, test_size=0.7, random_state=7)\n",
    "model.fit(X_train, y_train)"
   ]
  },
  {
   "cell_type": "code",
   "execution_count": null,
   "id": "2b5d9fd7-f119-4d04-a9eb-9838fd533f6f",
   "metadata": {},
   "outputs": [],
   "source": [
    "# predict model \n",
    "y_pred = model.predict(X_test)\n",
    "\n",
    "#metrics MAE & R2_score\n",
    "r2 = r2_score(y_test, y_pred)\n",
    "mae = mean_absolute_error(y_test, y_pred)\n",
    "\n",
    "print(f'R2_score:{r2:.2f} and MAE:{mae:.2f}')"
   ]
  },
  {
   "cell_type": "code",
   "execution_count": null,
   "id": "15bccf13-0fa5-4aba-a67f-814435fb06aa",
   "metadata": {},
   "outputs": [],
   "source": []
  },
  {
   "cell_type": "code",
   "execution_count": null,
   "id": "f0b5f31f-b0ce-4b2f-bbbb-99aef0a19956",
   "metadata": {},
   "outputs": [],
   "source": []
  }
 ],
 "metadata": {
  "kernelspec": {
   "display_name": "Python 3 (ipykernel)",
   "language": "python",
   "name": "python3"
  },
  "language_info": {
   "codemirror_mode": {
    "name": "ipython",
    "version": 3
   },
   "file_extension": ".py",
   "mimetype": "text/x-python",
   "name": "python",
   "nbconvert_exporter": "python",
   "pygments_lexer": "ipython3",
   "version": "3.12.3"
  }
 },
 "nbformat": 4,
 "nbformat_minor": 5
}
