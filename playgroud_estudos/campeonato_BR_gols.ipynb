{
 "cells": [
  {
   "cell_type": "markdown",
   "id": "32779766-744a-4808-a8b3-fd4bcbf6ee6c",
   "metadata": {},
   "source": [
    "# Analise de gols do campeonato brasileiro"
   ]
  },
  {
   "cell_type": "raw",
   "id": "0f84361f-e010-40f0-b5a0-6427005a5e05",
   "metadata": {},
   "source": [
    "Questões a serem  respondidas:\n",
    "\n",
    "1 - Maior artilheiro do CB\n",
    "2 - Club com maior número de gols\n",
    "3 - Club com menor número de gols\n",
    "4 - Qual dos tempos com maior taxa de gols\n",
    "5 - loading..."
   ]
  },
  {
   "cell_type": "markdown",
   "id": "3d70aac6-512b-4b8b-96f9-44ce5656e757",
   "metadata": {},
   "source": [
    "### Importações necessárias"
   ]
  },
  {
   "cell_type": "code",
   "execution_count": 156,
   "id": "7f3c07c4-e267-41c7-b129-b86ecc7c0a44",
   "metadata": {},
   "outputs": [],
   "source": [
    "import pandas as pd\n",
    "import seaborn as sns\n",
    "import numpy as np"
   ]
  },
  {
   "cell_type": "markdown",
   "id": "ff97717f-6fd0-47ae-b254-9b94919d2c8a",
   "metadata": {},
   "source": [
    "### Visualização inicial dos dados"
   ]
  },
  {
   "cell_type": "code",
   "execution_count": 100,
   "id": "5cc1d8cd-29a6-4461-a9c9-6ee0ba35e279",
   "metadata": {},
   "outputs": [],
   "source": [
    "base = pd.read_csv('datasets/campeonato-brasileiro-gols.csv')"
   ]
  },
  {
   "cell_type": "code",
   "execution_count": 101,
   "id": "d066f054-a980-454b-9092-3d0414ac8a81",
   "metadata": {},
   "outputs": [
    {
     "data": {
      "text/html": [
       "<div>\n",
       "<style scoped>\n",
       "    .dataframe tbody tr th:only-of-type {\n",
       "        vertical-align: middle;\n",
       "    }\n",
       "\n",
       "    .dataframe tbody tr th {\n",
       "        vertical-align: top;\n",
       "    }\n",
       "\n",
       "    .dataframe thead th {\n",
       "        text-align: right;\n",
       "    }\n",
       "</style>\n",
       "<table border=\"1\" class=\"dataframe\">\n",
       "  <thead>\n",
       "    <tr style=\"text-align: right;\">\n",
       "      <th></th>\n",
       "      <th>partida_id</th>\n",
       "      <th>rodata</th>\n",
       "      <th>clube</th>\n",
       "      <th>atleta</th>\n",
       "      <th>minuto</th>\n",
       "      <th>tipo_de_gol</th>\n",
       "    </tr>\n",
       "  </thead>\n",
       "  <tbody>\n",
       "    <tr>\n",
       "      <th>0</th>\n",
       "      <td>4607</td>\n",
       "      <td>1</td>\n",
       "      <td>Fluminense</td>\n",
       "      <td>Nirley da Silva Fonseca</td>\n",
       "      <td>59</td>\n",
       "      <td>Gol Contra</td>\n",
       "    </tr>\n",
       "    <tr>\n",
       "      <th>1</th>\n",
       "      <td>4607</td>\n",
       "      <td>1</td>\n",
       "      <td>Fluminense</td>\n",
       "      <td>Fred</td>\n",
       "      <td>45</td>\n",
       "      <td>Penalty</td>\n",
       "    </tr>\n",
       "    <tr>\n",
       "      <th>2</th>\n",
       "      <td>4607</td>\n",
       "      <td>1</td>\n",
       "      <td>Fluminense</td>\n",
       "      <td>Rafael Sóbis</td>\n",
       "      <td>31</td>\n",
       "      <td>NaN</td>\n",
       "    </tr>\n",
       "    <tr>\n",
       "      <th>3</th>\n",
       "      <td>4608</td>\n",
       "      <td>1</td>\n",
       "      <td>Internacional</td>\n",
       "      <td>Charles Aránguiz</td>\n",
       "      <td>6</td>\n",
       "      <td>NaN</td>\n",
       "    </tr>\n",
       "    <tr>\n",
       "      <th>4</th>\n",
       "      <td>4612</td>\n",
       "      <td>1</td>\n",
       "      <td>Cruzeiro</td>\n",
       "      <td>Nílton Ferreira Júnior</td>\n",
       "      <td>63</td>\n",
       "      <td>NaN</td>\n",
       "    </tr>\n",
       "  </tbody>\n",
       "</table>\n",
       "</div>"
      ],
      "text/plain": [
       "   partida_id  rodata          clube                   atleta minuto  \\\n",
       "0        4607       1     Fluminense  Nirley da Silva Fonseca     59   \n",
       "1        4607       1     Fluminense                     Fred     45   \n",
       "2        4607       1     Fluminense             Rafael Sóbis     31   \n",
       "3        4608       1  Internacional         Charles Aránguiz      6   \n",
       "4        4612       1       Cruzeiro   Nílton Ferreira Júnior     63   \n",
       "\n",
       "  tipo_de_gol  \n",
       "0  Gol Contra  \n",
       "1     Penalty  \n",
       "2         NaN  \n",
       "3         NaN  \n",
       "4         NaN  "
      ]
     },
     "execution_count": 101,
     "metadata": {},
     "output_type": "execute_result"
    }
   ],
   "source": [
    "base.head()"
   ]
  },
  {
   "cell_type": "code",
   "execution_count": 102,
   "id": "720d8c43-deeb-4b54-b2f8-edca649bf680",
   "metadata": {},
   "outputs": [
    {
     "data": {
      "text/html": [
       "<div>\n",
       "<style scoped>\n",
       "    .dataframe tbody tr th:only-of-type {\n",
       "        vertical-align: middle;\n",
       "    }\n",
       "\n",
       "    .dataframe tbody tr th {\n",
       "        vertical-align: top;\n",
       "    }\n",
       "\n",
       "    .dataframe thead th {\n",
       "        text-align: right;\n",
       "    }\n",
       "</style>\n",
       "<table border=\"1\" class=\"dataframe\">\n",
       "  <thead>\n",
       "    <tr style=\"text-align: right;\">\n",
       "      <th></th>\n",
       "      <th>partida_id</th>\n",
       "      <th>rodata</th>\n",
       "      <th>clube</th>\n",
       "      <th>atleta</th>\n",
       "      <th>minuto</th>\n",
       "      <th>tipo_de_gol</th>\n",
       "    </tr>\n",
       "  </thead>\n",
       "  <tbody>\n",
       "    <tr>\n",
       "      <th>8927</th>\n",
       "      <td>8403</td>\n",
       "      <td>38</td>\n",
       "      <td>Santos</td>\n",
       "      <td>Messias Rodrigues da Silva Júnior</td>\n",
       "      <td>58</td>\n",
       "      <td>NaN</td>\n",
       "    </tr>\n",
       "    <tr>\n",
       "      <th>8928</th>\n",
       "      <td>8404</td>\n",
       "      <td>38</td>\n",
       "      <td>Sao Paulo</td>\n",
       "      <td>Luciano da Rocha Neves</td>\n",
       "      <td>26</td>\n",
       "      <td>NaN</td>\n",
       "    </tr>\n",
       "    <tr>\n",
       "      <th>8929</th>\n",
       "      <td>8405</td>\n",
       "      <td>38</td>\n",
       "      <td>Vasco</td>\n",
       "      <td>Sergio Antonio De Luiz Junior</td>\n",
       "      <td>82</td>\n",
       "      <td>NaN</td>\n",
       "    </tr>\n",
       "    <tr>\n",
       "      <th>8930</th>\n",
       "      <td>8405</td>\n",
       "      <td>38</td>\n",
       "      <td>Bragantino</td>\n",
       "      <td>Léo Ortiz</td>\n",
       "      <td>63</td>\n",
       "      <td>NaN</td>\n",
       "    </tr>\n",
       "    <tr>\n",
       "      <th>8931</th>\n",
       "      <td>8405</td>\n",
       "      <td>38</td>\n",
       "      <td>Vasco</td>\n",
       "      <td>Paulinho</td>\n",
       "      <td>29</td>\n",
       "      <td>NaN</td>\n",
       "    </tr>\n",
       "  </tbody>\n",
       "</table>\n",
       "</div>"
      ],
      "text/plain": [
       "      partida_id  rodata       clube                             atleta  \\\n",
       "8927        8403      38      Santos  Messias Rodrigues da Silva Júnior   \n",
       "8928        8404      38   Sao Paulo             Luciano da Rocha Neves   \n",
       "8929        8405      38       Vasco      Sergio Antonio De Luiz Junior   \n",
       "8930        8405      38  Bragantino                          Léo Ortiz   \n",
       "8931        8405      38       Vasco                           Paulinho   \n",
       "\n",
       "     minuto tipo_de_gol  \n",
       "8927     58         NaN  \n",
       "8928     26         NaN  \n",
       "8929     82         NaN  \n",
       "8930     63         NaN  \n",
       "8931     29         NaN  "
      ]
     },
     "execution_count": 102,
     "metadata": {},
     "output_type": "execute_result"
    }
   ],
   "source": [
    "base.tail()"
   ]
  },
  {
   "cell_type": "code",
   "execution_count": 103,
   "id": "38834bb1-3270-4208-8d34-4449ad68f5b7",
   "metadata": {},
   "outputs": [
    {
     "data": {
      "text/plain": [
       "['partida_id', 'rodata', 'clube', 'atleta', 'minuto', 'tipo_de_gol']"
      ]
     },
     "execution_count": 103,
     "metadata": {},
     "output_type": "execute_result"
    }
   ],
   "source": [
    "base.columns.tolist()"
   ]
  },
  {
   "cell_type": "code",
   "execution_count": 104,
   "id": "53a3a065-755a-4d8a-a6c8-15de640182c3",
   "metadata": {},
   "outputs": [
    {
     "name": "stdout",
     "output_type": "stream",
     "text": [
      "<class 'pandas.core.frame.DataFrame'>\n",
      "RangeIndex: 8932 entries, 0 to 8931\n",
      "Data columns (total 6 columns):\n",
      " #   Column       Non-Null Count  Dtype \n",
      "---  ------       --------------  ----- \n",
      " 0   partida_id   8932 non-null   int64 \n",
      " 1   rodata       8932 non-null   int64 \n",
      " 2   clube        8932 non-null   object\n",
      " 3   atleta       8932 non-null   object\n",
      " 4   minuto       8932 non-null   object\n",
      " 5   tipo_de_gol  1089 non-null   object\n",
      "dtypes: int64(2), object(4)\n",
      "memory usage: 418.8+ KB\n"
     ]
    }
   ],
   "source": [
    "base.info()"
   ]
  },
  {
   "cell_type": "code",
   "execution_count": 105,
   "id": "c2297a4a-5c6a-49c8-bc37-229b6ee31c7a",
   "metadata": {},
   "outputs": [
    {
     "data": {
      "text/plain": [
       "np.float64(87.807881773399)"
      ]
     },
     "execution_count": 105,
     "metadata": {},
     "output_type": "execute_result"
    }
   ],
   "source": [
    "base['tipo_de_gol'].isnull().sum() / base.shape[0] * 100"
   ]
  },
  {
   "cell_type": "code",
   "execution_count": 106,
   "id": "e8eed987-adee-4ea4-a192-d5af3d08b754",
   "metadata": {},
   "outputs": [
    {
     "data": {
      "text/html": [
       "<div>\n",
       "<style scoped>\n",
       "    .dataframe tbody tr th:only-of-type {\n",
       "        vertical-align: middle;\n",
       "    }\n",
       "\n",
       "    .dataframe tbody tr th {\n",
       "        vertical-align: top;\n",
       "    }\n",
       "\n",
       "    .dataframe thead th {\n",
       "        text-align: right;\n",
       "    }\n",
       "</style>\n",
       "<table border=\"1\" class=\"dataframe\">\n",
       "  <thead>\n",
       "    <tr style=\"text-align: right;\">\n",
       "      <th></th>\n",
       "      <th>partida_id</th>\n",
       "      <th>rodata</th>\n",
       "    </tr>\n",
       "  </thead>\n",
       "  <tbody>\n",
       "    <tr>\n",
       "      <th>count</th>\n",
       "      <td>8932.000000</td>\n",
       "      <td>8932.000000</td>\n",
       "    </tr>\n",
       "    <tr>\n",
       "      <th>mean</th>\n",
       "      <td>6518.995746</td>\n",
       "      <td>19.563256</td>\n",
       "    </tr>\n",
       "    <tr>\n",
       "      <th>std</th>\n",
       "      <td>1100.120501</td>\n",
       "      <td>11.036544</td>\n",
       "    </tr>\n",
       "    <tr>\n",
       "      <th>min</th>\n",
       "      <td>4607.000000</td>\n",
       "      <td>1.000000</td>\n",
       "    </tr>\n",
       "    <tr>\n",
       "      <th>25%</th>\n",
       "      <td>5553.000000</td>\n",
       "      <td>10.000000</td>\n",
       "    </tr>\n",
       "    <tr>\n",
       "      <th>50%</th>\n",
       "      <td>6522.000000</td>\n",
       "      <td>20.000000</td>\n",
       "    </tr>\n",
       "    <tr>\n",
       "      <th>75%</th>\n",
       "      <td>7473.000000</td>\n",
       "      <td>29.000000</td>\n",
       "    </tr>\n",
       "    <tr>\n",
       "      <th>max</th>\n",
       "      <td>8405.000000</td>\n",
       "      <td>38.000000</td>\n",
       "    </tr>\n",
       "  </tbody>\n",
       "</table>\n",
       "</div>"
      ],
      "text/plain": [
       "        partida_id       rodata\n",
       "count  8932.000000  8932.000000\n",
       "mean   6518.995746    19.563256\n",
       "std    1100.120501    11.036544\n",
       "min    4607.000000     1.000000\n",
       "25%    5553.000000    10.000000\n",
       "50%    6522.000000    20.000000\n",
       "75%    7473.000000    29.000000\n",
       "max    8405.000000    38.000000"
      ]
     },
     "execution_count": 106,
     "metadata": {},
     "output_type": "execute_result"
    }
   ],
   "source": [
    "base.describe()"
   ]
  },
  {
   "cell_type": "markdown",
   "id": "465f2ac6-254e-45b3-a103-4649db0a9394",
   "metadata": {},
   "source": [
    "#### Insights de limpeza iniciais"
   ]
  },
  {
   "cell_type": "raw",
   "id": "945ea648-a73d-4b7e-8aa2-7b8ce18f148e",
   "metadata": {},
   "source": [
    "1 - coluna 'rodada' com digitação errada 'rodata'\n",
    "2 - coluna 'tipo_de_gol' contém 87,8% de dados faltantes()\n",
    "3 - coluna 'partida_id' é irrelevante para análise\n",
    "\n",
    "conclusões -> renomear 'rodata' para 'rodada' e excluir duas colunas 'tipo_de_gol' e 'partida_id'"
   ]
  },
  {
   "cell_type": "markdown",
   "id": "b2eb1745-6500-4663-8a94-7497503e521a",
   "metadata": {},
   "source": [
    "### Limpeza inicial da base"
   ]
  },
  {
   "cell_type": "code",
   "execution_count": 107,
   "id": "715bbac6-90e9-4c66-832a-7b21e5e8bdd0",
   "metadata": {},
   "outputs": [],
   "source": [
    "base.rename(columns = {'rodata':'rodada'}, inplace='True')"
   ]
  },
  {
   "cell_type": "code",
   "execution_count": 108,
   "id": "652a6b3e-d6d3-497c-8cd9-fe59207cb1dd",
   "metadata": {},
   "outputs": [],
   "source": [
    "base = base.drop('partida_id', axis=1)"
   ]
  },
  {
   "cell_type": "code",
   "execution_count": 109,
   "id": "ca673569-4e01-4b23-aee6-d3f919e6d215",
   "metadata": {},
   "outputs": [],
   "source": [
    "base = base.drop('tipo_de_gol', axis=1)"
   ]
  },
  {
   "cell_type": "code",
   "execution_count": 110,
   "id": "935cf68a-de44-4389-9a3b-533feb26b729",
   "metadata": {},
   "outputs": [
    {
     "data": {
      "text/plain": [
       "Index(['rodada', 'clube', 'atleta', 'minuto'], dtype='object')"
      ]
     },
     "execution_count": 110,
     "metadata": {},
     "output_type": "execute_result"
    }
   ],
   "source": [
    "base.columns"
   ]
  },
  {
   "cell_type": "markdown",
   "id": "e81b8dda-6954-45ee-b009-a210afedcb9b",
   "metadata": {},
   "source": [
    "### EDA"
   ]
  },
  {
   "cell_type": "code",
   "execution_count": 111,
   "id": "6e89e585-11aa-412a-af7f-03e30ce466ce",
   "metadata": {},
   "outputs": [
    {
     "data": {
      "text/plain": [
       "Index(['rodada', 'clube', 'atleta', 'minuto'], dtype='object')"
      ]
     },
     "execution_count": 111,
     "metadata": {},
     "output_type": "execute_result"
    }
   ],
   "source": [
    "base.columns"
   ]
  },
  {
   "cell_type": "code",
   "execution_count": 112,
   "id": "f9d671a5-0c64-4626-8293-564bb7d374c9",
   "metadata": {},
   "outputs": [
    {
     "name": "stdout",
     "output_type": "stream",
     "text": [
      "O maior artilheiro foi Gabriel Barbosa com 97 gols.\n"
     ]
    }
   ],
   "source": [
    "# 1 - Maior artilheiro do CB\n",
    "max_n_gols = base['atleta'].value_counts()\n",
    "print(f'O maior artilheiro foi {max_n_gols.index[0]} com {max_n_gols.max()} gols.')"
   ]
  },
  {
   "cell_type": "code",
   "execution_count": 113,
   "id": "9298a3ef-9ba2-48c5-b79a-6dfd072bf011",
   "metadata": {},
   "outputs": [
    {
     "name": "stdout",
     "output_type": "stream",
     "text": [
      "O clube que mais marcou foi o Flamengo com 590 gols\n"
     ]
    }
   ],
   "source": [
    "# 2 - Club com maior número de gols\n",
    "clube_max_n_gols = base['clube'].value_counts()\n",
    "print(f'O clube que mais marcou foi o {clube_max_n_gols.index[0]} com {clube_max_n_gols.max()} gols')"
   ]
  },
  {
   "cell_type": "code",
   "execution_count": 114,
   "id": "2e88f7b6-acd3-40ef-8177-c41c0e8d471b",
   "metadata": {},
   "outputs": [
    {
     "name": "stdout",
     "output_type": "stream",
     "text": [
      "O clube que menos marcou foi Parana com 18 gols\n"
     ]
    }
   ],
   "source": [
    "# 3 - Club com menor número de gols\n",
    "clube_min_n_gols = base['clube'].value_counts().sort_values(ascending=True)\n",
    "print(f'O clube que menos marcou foi {clube_min_n_gols.index[0]} com {clube_min_n_gols.min()} gols')"
   ]
  },
  {
   "cell_type": "code",
   "execution_count": 124,
   "id": "dc418fb8-2fac-4cb3-962f-33fb313399e0",
   "metadata": {},
   "outputs": [
    {
     "data": {
      "text/plain": [
       "np.float64(10.176892073443797)"
      ]
     },
     "execution_count": 124,
     "metadata": {},
     "output_type": "execute_result"
    }
   ],
   "source": [
    "# necessário alterar coluna 'minuto' para int, para calcular primeiro e segundo tempo\n",
    "# valores que não foram convertidos, serão classificados com -1\n",
    "base['minuto'] = pd.to_numeric(base['minuto'], errors='coerce')\n",
    "base['minuto'] = base['minuto'].fillna(-1)\n",
    "base.loc[base['minuto'] == -1].value_counts().sum() / base.shape[0] * 100"
   ]
  },
  {
   "cell_type": "raw",
   "id": "52d72b98-6e1d-44d4-b56f-25cd02af7170",
   "metadata": {},
   "source": [
    "OBS: 10% dos tempos de acréscimos foram desconsiderados, levamos em consideração apenas 0 a 45\n",
    "para primeiro e 46 a 90 segundo tempo."
   ]
  },
  {
   "cell_type": "code",
   "execution_count": 170,
   "id": "75d29f97-5f33-49cd-a8c1-a3ef1f921b3d",
   "metadata": {},
   "outputs": [
    {
     "name": "stdout",
     "output_type": "stream",
     "text": [
      "0.005634741982461277\n"
     ]
    },
    {
     "data": {
      "text/plain": [
       "<Axes: >"
      ]
     },
     "execution_count": 170,
     "metadata": {},
     "output_type": "execute_result"
    },
    {
     "data": {
      "image/png": "[encoded data removed]",
      "text/plain": [
       "<Figure size 640x480 with 1 Axes>"
      ]
     },
     "metadata": {},
     "output_type": "display_data"
    }
   ],
   "source": [
    "correlation = base['minuto'].corr(base['rodada'])\n",
    "print(correlation)\n",
    "sns.lineplot()"
   ]
  },
  {
   "cell_type": "code",
   "execution_count": null,
   "id": "62b3660c-a337-4d98-834c-39e203e2b264",
   "metadata": {},
   "outputs": [],
   "source": []
  }
 ],
 "metadata": {
  "kernelspec": {
   "display_name": "Python 3 (ipykernel)",
   "language": "python",
   "name": "python3"
  },
  "language_info": {
   "codemirror_mode": {
    "name": "ipython",
    "version": 3
   },
   "file_extension": ".py",
   "mimetype": "text/x-python",
   "name": "python",
   "nbconvert_exporter": "python",
   "pygments_lexer": "ipython3",
   "version": "3.12.3"
  }
 },
 "nbformat": 4,
 "nbformat_minor": 5
}
